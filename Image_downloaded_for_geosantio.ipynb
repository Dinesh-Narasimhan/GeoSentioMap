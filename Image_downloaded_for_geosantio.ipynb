{
  "nbformat": 4,
  "nbformat_minor": 0,
  "metadata": {
    "colab": {
      "provenance": []
    },
    "kernelspec": {
      "name": "python3",
      "display_name": "Python 3"
    },
    "language_info": {
      "name": "python"
    }
  },
  "cells": [
    {
      "cell_type": "code",
      "execution_count": null,
      "metadata": {
        "colab": {
          "base_uri": "https://localhost:8080/"
        },
        "id": "ERn21nQ3zHK4",
        "outputId": "17565639-705e-4611-ff40-b214dc662a5a"
      },
      "outputs": [
        {
          "output_type": "stream",
          "name": "stdout",
          "text": [
            "Requirement already satisfied: requests in /usr/local/lib/python3.11/dist-packages (2.32.3)\n",
            "Requirement already satisfied: charset-normalizer<4,>=2 in /usr/local/lib/python3.11/dist-packages (from requests) (3.4.2)\n",
            "Requirement already satisfied: idna<4,>=2.5 in /usr/local/lib/python3.11/dist-packages (from requests) (3.10)\n",
            "Requirement already satisfied: urllib3<3,>=1.21.1 in /usr/local/lib/python3.11/dist-packages (from requests) (2.4.0)\n",
            "Requirement already satisfied: certifi>=2017.4.17 in /usr/local/lib/python3.11/dist-packages (from requests) (2025.6.15)\n"
          ]
        }
      ],
      "source": [
        "!pip install requests"
      ]
    },
    {
      "cell_type": "code",
      "source": [
        "import os\n",
        "import requests\n",
        "import csv\n",
        "import re\n",
        "\n",
        "PEXELS_API_KEY = \"your actual key\"  # Replace this with your actual key\n",
        "headers = {\n",
        "    \"Authorization\": PEXELS_API_KEY\n",
        "}\n",
        "\n",
        "# Sanitize filenames to avoid illegal characters\n",
        "def clean_filename(text):\n",
        "    return re.sub(r'[\\\\/*?:\"<>|\\n\\r]', \"_\", text.replace(\" \", \"_\")).strip()\n",
        "\n",
        "def download_images(query, folder_name, total=100):\n",
        "    os.makedirs(folder_name, exist_ok=True)\n",
        "    image_data = []\n",
        "    page = 1\n",
        "    per_page = 30\n",
        "    count = 0\n",
        "\n",
        "    while count < total:\n",
        "        url = f\"https://api.pexels.com/v1/search?query={query}&per_page={per_page}&page={page}\"\n",
        "        try:\n",
        "            res = requests.get(url, headers=headers)\n",
        "            res.raise_for_status()\n",
        "        except Exception as e:\n",
        "            print(f\"API error on page {page}: {e}\")\n",
        "            break\n",
        "\n",
        "        photos = res.json().get(\"photos\", [])\n",
        "        if not photos:\n",
        "            break  # No more results\n",
        "\n",
        "        for photo in photos:\n",
        "            if count >= total:\n",
        "                break\n",
        "\n",
        "            image_url = photo[\"src\"][\"original\"]\n",
        "            raw_alt = photo.get(\"alt\", \"unknown_location\")\n",
        "            alt = clean_filename(raw_alt)\n",
        "            image_id = photo[\"id\"]\n",
        "            file_name = f\"{alt}_{image_id}.jpg\"\n",
        "            file_path = os.path.join(folder_name, file_name)\n",
        "\n",
        "            # Save image safely\n",
        "            try:\n",
        "                img = requests.get(image_url).content\n",
        "                with open(file_path, \"wb\") as f:\n",
        "                    f.write(img)\n",
        "\n",
        "                # Save metadata\n",
        "                image_data.append({\n",
        "                    \"filename\": file_name,\n",
        "                    \"location\": raw_alt\n",
        "                })\n",
        "                count += 1\n",
        "            except Exception as e:\n",
        "                print(f\"Skipping {file_name} due to error: {e}\")\n",
        "                continue\n",
        "        page += 1\n",
        "\n",
        "    # Write metadata CSV\n",
        "    csv_path = os.path.join(folder_name, \"metadata.csv\")\n",
        "    with open(csv_path, \"w\", newline=\"\", encoding=\"utf-8\") as csvfile:\n",
        "        writer = csv.DictWriter(csvfile, fieldnames=[\"filename\", \"location\"])\n",
        "        writer.writeheader()\n",
        "        for data in image_data:\n",
        "            writer.writerow(data)\n",
        "\n",
        "    print(f\" Done: {count} images saved in '{folder_name}'.\")\n",
        "\n",
        "#  Re-run for both places\n",
        "download_images(\"Chennai nature beach greenery\", \"Chennai\", 100)\n"
      ],
      "metadata": {
        "colab": {
          "base_uri": "https://localhost:8080/"
        },
        "id": "hjOJA874zKuP",
        "outputId": "9d20173c-62a2-4216-94a4-f15b599d4f2f"
      },
      "execution_count": null,
      "outputs": [
        {
          "output_type": "stream",
          "name": "stdout",
          "text": [
            "✅ Done: 100 images saved in 'Chennai'.\n"
          ]
        }
      ]
    },
    {
      "cell_type": "code",
      "source": [
        "from google.colab import drive\n",
        "drive.mount('/content/drive')"
      ],
      "metadata": {
        "colab": {
          "base_uri": "https://localhost:8080/"
        },
        "id": "YWo-G5QN51SU",
        "outputId": "a8869900-c93b-4114-863a-9f6d372ec01a"
      },
      "execution_count": null,
      "outputs": [
        {
          "output_type": "stream",
          "name": "stdout",
          "text": [
            "Mounted at /content/drive\n"
          ]
        }
      ]
    },
    {
      "cell_type": "code",
      "source": [
        "!cp -r /content/Kerala /content/drive/MyDrive/"
      ],
      "metadata": {
        "id": "qtYkN6sX513Y"
      },
      "execution_count": null,
      "outputs": []
    },
    {
      "cell_type": "code",
      "source": [
        "!cp -r /content/Chennai /content/drive/MyDrive/"
      ],
      "metadata": {
        "id": "-YTYTG1o6AhX"
      },
      "execution_count": null,
      "outputs": []
    }
  ]
}