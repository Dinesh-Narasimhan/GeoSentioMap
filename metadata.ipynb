{
  "nbformat": 4,
  "nbformat_minor": 0,
  "metadata": {
    "colab": {
      "provenance": []
    },
    "kernelspec": {
      "name": "python3",
      "display_name": "Python 3"
    },
    "language_info": {
      "name": "python"
    }
  },
  "cells": [
    {
      "cell_type": "code",
      "execution_count": 1,
      "metadata": {
        "colab": {
          "base_uri": "https://localhost:8080/"
        },
        "id": "ILjwCBD1Tnlf",
        "outputId": "48864a6b-bc64-48d7-e6e7-221fbdb7a7cc"
      },
      "outputs": [
        {
          "output_type": "stream",
          "name": "stdout",
          "text": [
            "Mounted at /content/drive\n"
          ]
        }
      ],
      "source": [
        "from google.colab import drive\n",
        "drive.mount('/content/drive')"
      ]
    },
    {
      "cell_type": "code",
      "source": [
        "import os\n",
        "import pandas as pd\n",
        "import random\n",
        "\n",
        "# Set your image root folder in Drive\n",
        "root_folder = \"/content/drive/MyDrive/GeoSentioMap/data\"\n",
        "locations = os.listdir(root_folder)\n",
        "\n",
        "# Map filenames to emotions based on keywords\n",
        "emotion_map = {\n",
        "    'nature': 'peaceful',\n",
        "    'landscape': 'peaceful',\n",
        "    'market': 'energetic',\n",
        "    'street': 'neutral',\n",
        "    'beach': 'peaceful',\n",
        "    'chaotic': 'chaotic',\n",
        "    'crowd': 'chaotic',\n",
        "    'temple': 'neutral',\n",
        "    'park': 'peaceful'\n",
        "}\n",
        "\n",
        "def guess_emotion(fname):\n",
        "    for key in emotion_map:\n",
        "        if key in fname.lower():\n",
        "            return emotion_map[key]\n",
        "    return random.choice(['peaceful', 'neutral', 'energetic'])\n",
        "\n",
        "records = []\n",
        "\n",
        "for loc in locations:\n",
        "    folder = os.path.join(root_folder, loc)\n",
        "    for fname in os.listdir(folder):\n",
        "        records.append({\n",
        "            'filename': fname,\n",
        "            'location': loc,\n",
        "            'weather': random.choice(['sunny', 'rainy', 'cloudy']),\n",
        "            'time_of_day': random.choice(['morning', 'afternoon', 'evening']),\n",
        "            'emotion_label': guess_emotion(fname)\n",
        "        })\n",
        "\n",
        "df = pd.DataFrame(records)\n",
        "df.to_csv(\"/content/drive/MyDrive/GeoSentioMap/metadata.csv\", index=False)\n",
        "print(\" metadata.csv created with\", len(df), \"entries\")"
      ],
      "metadata": {
        "colab": {
          "base_uri": "https://localhost:8080/"
        },
        "id": "G3kKm2p5TpGQ",
        "outputId": "b24e5ba3-9f8c-49e6-97de-88a2d400791d"
      },
      "execution_count": 2,
      "outputs": [
        {
          "output_type": "stream",
          "name": "stdout",
          "text": [
            " metadata.csv created with 207 entries\n"
          ]
        }
      ]
    }
  ]
}